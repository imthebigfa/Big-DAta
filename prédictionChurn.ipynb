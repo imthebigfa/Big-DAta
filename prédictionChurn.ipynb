{
  "nbformat": 4,
  "nbformat_minor": 0,
  "metadata": {
    "colab": {
      "provenance": []
    },
    "kernelspec": {
      "name": "python3",
      "display_name": "Python 3"
    },
    "language_info": {
      "name": "python"
    }
  },
  "cells": [
    {
      "cell_type": "markdown",
      "source": [
        "# **Titre :Analyse de données pour la prédiction et la prévention du désabonnement client dans la secteur des télecommunication.**"
      ],
      "metadata": {
        "id": "I54XLaAiO6FB"
      }
    },
    {
      "cell_type": "code",
      "source": [
        "from google.colab import drive\n",
        "drive.mount('/content/drive')"
      ],
      "metadata": {
        "id": "-rFcdP8IF4zM"
      },
      "execution_count": null,
      "outputs": []
    },
    {
      "cell_type": "markdown",
      "source": [
        "## **Data Loading and Churn Label Definition :**\n",
        "### Loads telecom churn data into a PySpark DataFrame, creates a churn label, and displays its distribution."
      ],
      "metadata": {
        "id": "R8Oju6y0RfMU"
      }
    },
    {
      "cell_type": "code",
      "execution_count": 1,
      "metadata": {
        "id": "4-xj7Tw8Acay",
        "colab": {
          "base_uri": "https://localhost:8080/"
        },
        "outputId": "cbc0662a-027e-4689-8708-b90e64fb7290"
      },
      "outputs": [
        {
          "output_type": "stream",
          "name": "stdout",
          "text": [
            "+-----+-----+\n",
            "|churn|count|\n",
            "+-----+-----+\n",
            "|    1|12353|\n",
            "|    0|87646|\n",
            "+-----+-----+\n",
            "\n"
          ]
        }
      ],
      "source": [
        "from pyspark.sql import SparkSession\n",
        "from pyspark.sql.functions import when, col\n",
        "\n",
        "# Initialize Spark session\n",
        "spark = SparkSession.builder.appName(\"ChurnPrediction\").getOrCreate()\n",
        "\n",
        "# Load data\n",
        "df = spark.read.csv(\"/content/drive/MyDrive/Copy of telecom_churn_data (1).csv\", header=True, inferSchema=True)\n",
        "\n",
        "# Define churn label\n",
        "df = df.withColumn(\n",
        "    \"churn\",\n",
        "    when((col(\"sep_vbc_3g\") == 0) & (col(\"aug_vbc_3g\") > 0), 1).otherwise(0)\n",
        ")\n",
        "\n",
        "# Check churn distribution\n",
        "df.groupBy(\"churn\").count().show()\n"
      ]
    },
    {
      "cell_type": "markdown",
      "source": [
        "## **Handle Missing Data:**\n",
        "### Drops columns with more than 50% missing values, retains valid columns, and fills missing values with column means."
      ],
      "metadata": {
        "id": "SfmR_Xa8RybH"
      }
    },
    {
      "cell_type": "code",
      "source": [
        "# Drop  missing values\n",
        "threshold = df.count() * 0.5\n",
        "valid_cols = [col for col in df.columns if df.filter(df[col].isNotNull()).count() > threshold]\n",
        "df = df.select(valid_cols)\n",
        "\n",
        "# Fill missing values\n",
        "from pyspark.sql.functions import mean\n",
        "\n",
        "for column in df.columns:\n",
        "    if df.select(column).dtypes[0][1] in ['double', 'int']:\n",
        "        mean_value = df.select(mean(col(column))).collect()[0][0]\n",
        "        df = df.fillna({column: mean_value})\n"
      ],
      "metadata": {
        "id": "kvTV3gy7Gitu"
      },
      "execution_count": 2,
      "outputs": []
    },
    {
      "cell_type": "markdown",
      "source": [
        "## **Feature Engineering and Scaling**\n",
        "### Creates aggregate features for total 3G usage and normalizes numerical columns using MinMaxScaler."
      ],
      "metadata": {
        "id": "MFPouzTVSeSp"
      }
    },
    {
      "cell_type": "code",
      "source": [
        "# Create aggregate feature for total 3G usage\n",
        "from pyspark.sql.functions import sum as _sum\n",
        "\n",
        "df = df.withColumn(\"total_vbc_3g\",\n",
        "                   col(\"jun_vbc_3g\") + col(\"jul_vbc_3g\") + col(\"aug_vbc_3g\") + col(\"sep_vbc_3g\"))\n",
        "\n",
        "# Normalize numerical columns\n",
        "from pyspark.ml.feature import MinMaxScaler, VectorAssembler\n",
        "\n",
        "numeric_cols = [\"arpu_6\", \"arpu_7\", \"arpu_8\", \"arpu_9\"]\n",
        "assembler = VectorAssembler(inputCols=numeric_cols, outputCol=\"features\")\n",
        "scaler = MinMaxScaler(inputCol=\"features\", outputCol=\"scaled_features\")\n",
        "\n",
        "df = assembler.transform(df)\n",
        "df = scaler.fit(df).transform(df)\n"
      ],
      "metadata": {
        "id": "2-VYLuljJLWf"
      },
      "execution_count": 3,
      "outputs": []
    },
    {
      "cell_type": "markdown",
      "source": [
        "## **Train-Test Split**\n",
        "### Splits the data into training and testing sets ."
      ],
      "metadata": {
        "id": "Xq1yrKw3TByo"
      }
    },
    {
      "cell_type": "code",
      "source": [
        "# Split the data into training and testing sets\n",
        "train_df, test_df = df.randomSplit([0.7, 0.3], seed=42)\n"
      ],
      "metadata": {
        "id": "qi70USD1JRfz"
      },
      "execution_count": 4,
      "outputs": []
    },
    {
      "cell_type": "markdown",
      "source": [
        "## **Random Forest Model Training and Evaluation**\n",
        "### Trains a Random Forest model, makes predictions, and evaluates it using AUC."
      ],
      "metadata": {
        "id": "Jz1SWgsKTUmd"
      }
    },
    {
      "cell_type": "code",
      "source": [
        "from pyspark.ml.classification import RandomForestClassifier\n",
        "from pyspark.ml.evaluation import BinaryClassificationEvaluator\n",
        "\n",
        "# Define the model\n",
        "rf = RandomForestClassifier(labelCol=\"churn\", featuresCol=\"scaled_features\")\n",
        "\n",
        "# Train the model\n",
        "rf_model = rf.fit(train_df)\n",
        "\n",
        "# Make predictions\n",
        "predictions = rf_model.transform(test_df)\n",
        "\n",
        "# Evaluate the model\n",
        "evaluator = BinaryClassificationEvaluator(labelCol=\"churn\")\n",
        "auc = evaluator.evaluate(predictions)\n",
        "print(f\"AUC: {auc}\")\n"
      ],
      "metadata": {
        "colab": {
          "base_uri": "https://localhost:8080/"
        },
        "id": "eV_dctOlJTfQ",
        "outputId": "d6baaeda-adbd-4dc5-97ce-a3516705184f"
      },
      "execution_count": 5,
      "outputs": [
        {
          "output_type": "stream",
          "name": "stdout",
          "text": [
            "AUC: 0.645915857696425\n"
          ]
        }
      ]
    },
    {
      "cell_type": "markdown",
      "source": [
        "## **Visualize Churn Distribution**\n",
        "### Plots a histogram to visualize the churn distribution in the dataset."
      ],
      "metadata": {
        "id": "mTmSOMa2TeNw"
      }
    },
    {
      "cell_type": "code",
      "source": [
        "import matplotlib.pyplot as plt\n",
        "\n",
        "# Convert churn data to Pandas\n",
        "churn_data = df.select(\"churn\").toPandas()\n",
        "\n",
        "# Plot histogram\n",
        "plt.hist(churn_data[\"churn\"], bins=2, color='blue', alpha=0.7, edgecolor='black')\n",
        "plt.title(\"Churn Distribution\")\n",
        "plt.xlabel(\"Churn\")\n",
        "plt.ylabel(\"Count\")\n",
        "plt.show()\n"
      ],
      "metadata": {
        "colab": {
          "base_uri": "https://localhost:8080/",
          "height": 472
        },
        "id": "67_BVCC8Kyvt",
        "outputId": "8ee3e005-3d39-412e-9b93-91e9b253fbdf"
      },
      "execution_count": 8,
      "outputs": [
        {
          "output_type": "display_data",
          "data": {
            "text/plain": [
              "<Figure size 640x480 with 1 Axes>"
            ],
            "image/png": "[encoded data removed]"
          },
          "metadata": {}
        }
      ]
    },
    {
      "cell_type": "markdown",
      "source": [
        "##**Plot ROC Curve**\n",
        "### Calculates and visualizes the ROC curve with AUC to assess model performance."
      ],
      "metadata": {
        "id": "W6Grjae4Tusa"
      }
    },
    {
      "cell_type": "code",
      "source": [
        "from sklearn.metrics import roc_curve, auc\n",
        "\n",
        "# Extract probability and true labels\n",
        "probabilities = predictions.select(\"probability\", \"churn\").toPandas()\n",
        "y_true = probabilities[\"churn\"]\n",
        "y_scores = probabilities[\"probability\"].apply(lambda x: x[1])  # Probability of class 1\n",
        "\n",
        "# Calculate ROC curve\n",
        "fpr, tpr, _ = roc_curve(y_true, y_scores)\n",
        "roc_auc = auc(fpr, tpr)\n",
        "\n",
        "# Plot ROC curve\n",
        "plt.figure()\n",
        "plt.plot(fpr, tpr, color=\"darkorange\", lw=2, label=f\"ROC curve (AUC = {roc_auc:.2f})\")\n",
        "plt.plot([0, 1], [0, 1], color=\"navy\", lw=2, linestyle=\"--\")\n",
        "plt.title(\"Receiver Operating Characteristic\")\n",
        "plt.xlabel(\"False Positive Rate\")\n",
        "plt.ylabel(\"True Positive Rate\")\n",
        "plt.legend(loc=\"lower right\")\n",
        "plt.show()\n"
      ],
      "metadata": {
        "colab": {
          "base_uri": "https://localhost:8080/",
          "height": 472
        },
        "id": "C3lc4If9K4wN",
        "outputId": "77b2cfc0-3835-4ebf-b1ef-ec0717a2454f"
      },
      "execution_count": 9,
      "outputs": [
        {
          "output_type": "display_data",
          "data": {
            "text/plain": [
              "<Figure size 640x480 with 1 Axes>"
            ],
            "image/png": "[encoded data removed]"
          },
          "metadata": {}
        }
      ]
    },
    {
      "cell_type": "markdown",
      "source": [
        "## **Feature Importance Extraction**\n",
        "### Extracts and displays feature importance from the trained Random Forest model."
      ],
      "metadata": {
        "id": "f2oOcBuQT9QR"
      }
    },
    {
      "cell_type": "code",
      "source": [
        "# Extract feature importances\n",
        "importances = rf_model.featureImportances\n",
        "print(\"Feature Importances:\", importances)\n"
      ],
      "metadata": {
        "colab": {
          "base_uri": "https://localhost:8080/"
        },
        "id": "9cqZXEOfJslF",
        "outputId": "23dd7f4c-45ef-43ea-ccc1-bf38f0e84912"
      },
      "execution_count": 6,
      "outputs": [
        {
          "output_type": "stream",
          "name": "stdout",
          "text": [
            "Feature Importances: (4,[0,1,2,3],[0.027066621553097272,0.6639562114299421,0.26593559601496963,0.043041571001990915])\n"
          ]
        }
      ]
    },
    {
      "cell_type": "markdown",
      "source": [
        "## **Predict Churn for New Data**\n",
        "### Implements a function to predict churn for new data, including feature engineering and model loading."
      ],
      "metadata": {
        "id": "5Fs0MkFyULrG"
      }
    },
    {
      "cell_type": "code",
      "source": [
        "import os\n",
        "from pyspark.ml.classification import RandomForestClassificationModel\n",
        "from pyspark.sql import SparkSession\n",
        "from pyspark.sql.functions import col\n",
        "from pyspark.ml.feature import VectorAssembler, MinMaxScaler\n",
        "\n",
        "# Function to load the model and predict on new data\n",
        "def predict_churn():\n",
        "    # Initialize Spark session\n",
        "    spark = SparkSession.builder.appName(\"ChurnPredictionNewData\").getOrCreate()\n",
        "\n",
        "    # Step 1: Get file path from the user\n",
        "    file_path = input(\"Enter the file path for the new data (CSV format): \")\n",
        "\n",
        "    # Step 2: Check if the file exists\n",
        "    if not os.path.exists(file_path):\n",
        "        print(\"Error: File not found. Please check the path and try again.\")\n",
        "        return\n",
        "\n",
        "    # Step 3: Load new data\n",
        "    print(\"Loading new data...\")\n",
        "    new_data = spark.read.csv(file_path, header=True, inferSchema=True)\n",
        "\n",
        "    # Step 4: Process the new data (Feature Engineering and Scaling)\n",
        "    print(\"Processing new data...\")\n",
        "\n",
        "    # Example: Add aggregate features (if used in training)\n",
        "    new_data = new_data.withColumn(\"total_vbc_3g\",\n",
        "                                   col(\"jun_vbc_3g\") + col(\"jul_vbc_3g\") + col(\"aug_vbc_3g\") + col(\"sep_vbc_3g\"))\n",
        "\n",
        "    # Assemble features (ensure columns match training features)\n",
        "    numeric_cols = [\"arpu_6\", \"arpu_7\", \"arpu_8\", \"arpu_9\"]  # Update this based on training features\n",
        "    assembler = VectorAssembler(inputCols=numeric_cols, outputCol=\"features\")\n",
        "    new_data = assembler.transform(new_data)\n",
        "\n",
        "    # Scale features\n",
        "    scaler = MinMaxScaler(inputCol=\"features\", outputCol=\"scaled_features\")\n",
        "    scaler_model = scaler.fit(new_data)  # Fit scaler on new data\n",
        "    new_data = scaler_model.transform(new_data)\n",
        "\n",
        "    # Step 5: Load the trained model\n",
        "    print(\"Loading the trained model...\")\n",
        "    model_path = \"path/to/save/rf_model\"  # Replace with your actual model path\n",
        "    loaded_model = RandomForestClassificationModel.load(model_path)\n",
        "\n",
        "    # Step 6: Predict churn for the new data\n",
        "    print(\"Predicting churn...\")\n",
        "    predictions = loaded_model.transform(new_data)\n",
        "\n",
        "    # Step 7: Display predictions\n",
        "    print(\"Churn predictions (first 5 rows):\")\n",
        "    results = predictions.select(\"mobile_number\", \"probability\", \"prediction\").toPandas()\n",
        "    print(results.head())\n",
        "\n",
        "    # Optional: Save predictions to a CSV file\n",
        "    save_path = \"churn_predictions.csv\"\n",
        "    results.to_csv(save_path, index=False)\n",
        "    print(f\"Predictions saved to {save_path}.\")\n",
        "\n",
        "    # Step 8: Explain the results\n",
        "    print(\"\\n### Explanation of Results ###\")\n",
        "    print(\"1. **mobile_number**: The unique identifier for the customer.\")\n",
        "    print(\"2. **probability**: The probability vector for each customer:\")\n",
        "    print(\"   - First value: Probability of not churning (staying).\")\n",
        "    print(\"   - Second value: Probability of churning (leaving).\")\n",
        "    print(\"3. **prediction**: The predicted class for the customer:\")\n",
        "    print(\"   - 0: Customer is likely to stay.\")\n",
        "    print(\"   - 1: Customer is likely to churn (leave).\")\n",
        "    print(\"\\n### Next Steps ###\")\n",
        "    print(\"Based on these predictions:\")\n",
        "    print(\"   - Focus retention efforts on customers with a predicted churn (1).\")\n",
        "    print(\"   - Use the probability values to prioritize customers with high churn likelihood.\")\n",
        "    print(\"For example, if a customer has a churn probability > 0.7, consider offering special incentives to retain them.\")\n"
      ],
      "metadata": {
        "id": "ENV8ASkeJwTA"
      },
      "execution_count": 12,
      "outputs": []
    },
    {
      "cell_type": "code",
      "source": [
        "predict_churn()\n"
      ],
      "metadata": {
        "colab": {
          "base_uri": "https://localhost:8080/"
        },
        "id": "0VOt4W1zOHMx",
        "outputId": "bd79525b-d2a8-4785-ceef-3b91ffb8cd55"
      },
      "execution_count": 13,
      "outputs": [
        {
          "output_type": "stream",
          "name": "stdout",
          "text": [
            "Enter the file path for the new data (CSV format): /content/Book1.csv\n",
            "Loading new data...\n",
            "Processing new data...\n",
            "Loading the trained model...\n",
            "Predicting churn...\n",
            "Churn predictions (first 5 rows):\n",
            "   mobile_number                               probability  prediction\n",
            "0     7000842753  [0.852627341557883, 0.14737265844211697]         0.0\n",
            "Predictions saved to churn_predictions.csv.\n",
            "\n",
            "### Explanation of Results ###\n",
            "1. **mobile_number**: The unique identifier for the customer.\n",
            "2. **probability**: The probability vector for each customer:\n",
            "   - First value: Probability of not churning (staying).\n",
            "   - Second value: Probability of churning (leaving).\n",
            "3. **prediction**: The predicted class for the customer:\n",
            "   - 0: Customer is likely to stay.\n",
            "   - 1: Customer is likely to churn (leave).\n",
            "\n",
            "### Next Steps ###\n",
            "Based on these predictions:\n",
            "   - Focus retention efforts on customers with a predicted churn (1).\n",
            "   - Use the probability values to prioritize customers with high churn likelihood.\n",
            "For example, if a customer has a churn probability > 0.7, consider offering special incentives to retain them.\n"
          ]
        }
      ]
    }
  ]
}